{
 "cells": [
  {
   "cell_type": "code",
   "execution_count": 4,
   "metadata": {},
   "outputs": [],
   "source": [
    "import ee\n",
    "import eeft\n",
    "\n",
    "from eeft.cmasking import mask_s2_clouds"
   ]
  },
  {
   "cell_type": "code",
   "execution_count": 5,
   "metadata": {},
   "outputs": [],
   "source": [
    "ee.Initialize()"
   ]
  },
  {
   "cell_type": "code",
   "execution_count": 6,
   "metadata": {},
   "outputs": [],
   "source": [
    "point = ee.Geometry.Point(-77.3832, 44.1628)\n",
    "collection = ee.ImageCollection(\"COPERNICUS/S2_SR_HARMONIZED\").filterDate('2018', '2021').filterBounds(point).map(mask_s2_clouds)"
   ]
  },
  {
   "cell_type": "code",
   "execution_count": 7,
   "metadata": {},
   "outputs": [],
   "source": [
    "ts = eeft.TimeSeries(collection=collection, dependent='B11')\n",
    "ts = ts.add_constant().add_time().add_harmonics().build()\n",
    "model = eeft.HarmonicModel(time_series=ts)\n",
    "ft = eeft.FourierTransform(model=model)\n",
    "ft.fit()\n",
    "ft = ft.transform()\n"
   ]
  },
  {
   "cell_type": "code",
   "execution_count": null,
   "metadata": {},
   "outputs": [],
   "source": []
  }
 ],
 "metadata": {
  "kernelspec": {
   "display_name": "Python 3",
   "language": "python",
   "name": "python3"
  },
  "language_info": {
   "codemirror_mode": {
    "name": "ipython",
    "version": 3
   },
   "file_extension": ".py",
   "mimetype": "text/x-python",
   "name": "python",
   "nbconvert_exporter": "python",
   "pygments_lexer": "ipython3",
   "version": "3.10.12"
  },
  "orig_nbformat": 4
 },
 "nbformat": 4,
 "nbformat_minor": 2
}
