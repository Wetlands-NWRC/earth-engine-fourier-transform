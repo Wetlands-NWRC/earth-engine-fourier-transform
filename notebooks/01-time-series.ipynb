{
 "cells": [
  {
   "cell_type": "code",
   "execution_count": 1,
   "metadata": {},
   "outputs": [],
   "source": [
    "import ee\n",
    "\n",
    "from eeft.time_series import TimeSeries\n",
    "from eeft.cmasking import mask_s2_clouds"
   ]
  },
  {
   "cell_type": "code",
   "execution_count": 2,
   "metadata": {},
   "outputs": [],
   "source": [
    "ee.Initialize()"
   ]
  },
  {
   "cell_type": "code",
   "execution_count": 3,
   "metadata": {},
   "outputs": [
    {
     "data": {
      "text/plain": [
       "1"
      ]
     },
     "execution_count": 3,
     "metadata": {},
     "output_type": "execute_result"
    }
   ],
   "source": [
    "point = ee.Geometry.Point(-77.3832, 44.1628)\n",
    "collection = ee.ImageCollection(\"COPERNICUS/S2_SR_HARMONIZED\").filterDate('2018', '2021').filterBounds(point).map(mask_s2_clouds)\n",
    "\n",
    "collection.size().neq(0).getInfo()"
   ]
  },
  {
   "cell_type": "code",
   "execution_count": 4,
   "metadata": {},
   "outputs": [],
   "source": [
    "ts = TimeSeries(collection=collection, dependent='B11')\n",
    "ts = ts.add_constant().add_time().add_harmonics().select_bands().build()"
   ]
  },
  {
   "cell_type": "code",
   "execution_count": 5,
   "metadata": {},
   "outputs": [
    {
     "data": {
      "text/plain": [
       "['B11',\n",
       " 'constant',\n",
       " 't',\n",
       " 'cos_1',\n",
       " 'cos_2',\n",
       " 'cos_3',\n",
       " 'cos_4',\n",
       " 'cos_5',\n",
       " 'sin_1',\n",
       " 'sin_2',\n",
       " 'sin_3',\n",
       " 'sin_4',\n",
       " 'sin_5']"
      ]
     },
     "execution_count": 5,
     "metadata": {},
     "output_type": "execute_result"
    }
   ],
   "source": [
    "ts.collection.first().bandNames().getInfo()"
   ]
  },
  {
   "cell_type": "code",
   "execution_count": null,
   "metadata": {},
   "outputs": [],
   "source": []
  }
 ],
 "metadata": {
  "kernelspec": {
   "display_name": "Python 3",
   "language": "python",
   "name": "python3"
  },
  "language_info": {
   "codemirror_mode": {
    "name": "ipython",
    "version": 3
   },
   "file_extension": ".py",
   "mimetype": "text/x-python",
   "name": "python",
   "nbconvert_exporter": "python",
   "pygments_lexer": "ipython3",
   "version": "3.10.12"
  },
  "orig_nbformat": 4
 },
 "nbformat": 4,
 "nbformat_minor": 2
}
