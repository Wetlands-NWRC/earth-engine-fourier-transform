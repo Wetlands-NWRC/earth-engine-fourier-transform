{
 "cells": [
  {
   "cell_type": "code",
   "execution_count": 1,
   "metadata": {},
   "outputs": [],
   "source": [
    "from eeft.time_series import TimeSeries\n",
    "from eeft.model import HarmonicModel\n",
    "from eeft.cmasking import mask_s2_clouds\n",
    "from eeft.transform import FourierTransform\n",
    "\n",
    "import ee"
   ]
  },
  {
   "cell_type": "code",
   "execution_count": 2,
   "metadata": {},
   "outputs": [],
   "source": [
    "ee.Initialize()"
   ]
  },
  {
   "cell_type": "code",
   "execution_count": 3,
   "metadata": {},
   "outputs": [],
   "source": [
    "point = ee.Geometry.Point(-77.3832, 44.1628)\n",
    "collection = ee.ImageCollection(\"COPERNICUS/S2_SR_HARMONIZED\").filterDate('2018', '2021').filterBounds(point).map(mask_s2_clouds)"
   ]
  },
  {
   "cell_type": "code",
   "execution_count": 4,
   "metadata": {},
   "outputs": [],
   "source": [
    "ts = TimeSeries(collection=collection, dependent='B11')\n",
    "ts = ts.add_constant().add_time().add_harmonics().build()"
   ]
  },
  {
   "cell_type": "code",
   "execution_count": 5,
   "metadata": {},
   "outputs": [],
   "source": [
    "model = HarmonicModel(time_series=ts)"
   ]
  },
  {
   "cell_type": "code",
   "execution_count": 6,
   "metadata": {},
   "outputs": [
    {
     "data": {
      "text/plain": [
       "<eeft.transform.FourierTransform at 0x17303e8d210>"
      ]
     },
     "execution_count": 6,
     "metadata": {},
     "output_type": "execute_result"
    }
   ],
   "source": [
    "transform = FourierTransform(model=model)\n",
    "transform.fit()"
   ]
  },
  {
   "cell_type": "code",
   "execution_count": 7,
   "metadata": {},
   "outputs": [
    {
     "data": {
      "text/plain": [
       "['B11',\n",
       " 'constant_coef',\n",
       " 't_coef',\n",
       " 'cos_1_coef',\n",
       " 'cos_2_coef',\n",
       " 'cos_3_coef',\n",
       " 'cos_4_coef',\n",
       " 'cos_5_coef',\n",
       " 'sin_1_coef',\n",
       " 'sin_2_coef',\n",
       " 'sin_3_coef',\n",
       " 'sin_4_coef',\n",
       " 'sin_5_coef',\n",
       " 'phase_1',\n",
       " 'amp_1',\n",
       " 'phase_2',\n",
       " 'amp_2',\n",
       " 'phase_3',\n",
       " 'amp_3',\n",
       " 'phase_4',\n",
       " 'amp_4',\n",
       " 'phase_5',\n",
       " 'amp_5']"
      ]
     },
     "execution_count": 7,
     "metadata": {},
     "output_type": "execute_result"
    }
   ],
   "source": [
    "transform.transform().bandNames().getInfo()"
   ]
  },
  {
   "cell_type": "code",
   "execution_count": null,
   "metadata": {},
   "outputs": [],
   "source": []
  }
 ],
 "metadata": {
  "kernelspec": {
   "display_name": "Python 3",
   "language": "python",
   "name": "python3"
  },
  "language_info": {
   "codemirror_mode": {
    "name": "ipython",
    "version": 3
   },
   "file_extension": ".py",
   "mimetype": "text/x-python",
   "name": "python",
   "nbconvert_exporter": "python",
   "pygments_lexer": "ipython3",
   "version": "3.10.12"
  },
  "orig_nbformat": 4
 },
 "nbformat": 4,
 "nbformat_minor": 2
}
